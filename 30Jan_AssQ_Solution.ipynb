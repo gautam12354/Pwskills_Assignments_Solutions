{
  "nbformat": 4,
  "nbformat_minor": 0,
  "metadata": {
    "colab": {
      "provenance": [],
      "authorship_tag": "ABX9TyMe9b01m9HH5mMxgEOHCXo7",
      "include_colab_link": true
    },
    "kernelspec": {
      "name": "python3",
      "display_name": "Python 3"
    },
    "language_info": {
      "name": "python"
    }
  },
  "cells": [
    {
      "cell_type": "markdown",
      "metadata": {
        "id": "view-in-github",
        "colab_type": "text"
      },
      "source": [
        "<a href=\"https://colab.research.google.com/github/gautam12354/Pwskills_Assignments_Solutions/blob/main/30Jan_AssQ_Solution.ipynb\" target=\"_parent\"><img src=\"https://colab.research.google.com/assets/colab-badge.svg\" alt=\"Open In Colab\"/></a>"
      ]
    },
    {
      "cell_type": "markdown",
      "source": [
        "Q 1. Write a program to accept percentage from the user and display the grade according to the following criteria:\n",
        "                \n",
        "                Marks\t    Grade\n",
        "                  >90\t         A\n",
        "                  >80 and <=90\tB\n",
        "                  >=60 and <=80\tC\n",
        "                  below 60\t    D\n"
      ],
      "metadata": {
        "id": "kY6_2uuTNaw_"
      }
    },
    {
      "cell_type": "code",
      "execution_count": null,
      "metadata": {
        "colab": {
          "base_uri": "https://localhost:8080/"
        },
        "id": "P_8NgE0yNTfQ",
        "outputId": "3e6ddb76-9741-4e9b-ab87-3970b742b42c"
      },
      "outputs": [
        {
          "output_type": "stream",
          "name": "stdout",
          "text": [
            "Enter your percentage : 94\n",
            "A\n"
          ]
        }
      ],
      "source": [
        "Input = int(input('Enter your percentage : '))\n",
        "if Input>90:\n",
        "    print(\"A\")\n",
        "elif 90>=Input>80:\n",
        "    print(\"B\")\n",
        "elif 80>=Input>=60:\n",
        "    print(\"C\")\n",
        "else:\n",
        "    print(\"D\")"
      ]
    },
    {
      "cell_type": "markdown",
      "source": [
        "Q 2. Write a program to accept the cose price of a bike and display the road tax to be paid according to the following criteria:\n",
        "\n",
        "    Tax\tCose Price (in Rs)\n",
        "    15%\t>100000\n",
        "    10%\t>50000 and <= 100000\n",
        "    5%\t<= 50000"
      ],
      "metadata": {
        "id": "uj_b0uytQ0nO"
      }
    },
    {
      "cell_type": "code",
      "source": [
        "Input = int(input('Enter bike price : '))\n",
        "if Input>100000:\n",
        "    print(\"Tax : 15%\")\n",
        "elif Input>50000 and Input<=100000:\n",
        "    print(\"Tax : 10%\")\n",
        "else:\n",
        "    print(\"Tax : 5%\")"
      ],
      "metadata": {
        "colab": {
          "base_uri": "https://localhost:8080/"
        },
        "id": "5IV3mR9FOJqW",
        "outputId": "cda33654-3a65-4835-aa30-9ca0ef473e3d"
      },
      "execution_count": null,
      "outputs": [
        {
          "output_type": "stream",
          "name": "stdout",
          "text": [
            "Enter bike price : 124000\n",
            "Tax : 15%\n"
          ]
        }
      ]
    },
    {
      "cell_type": "markdown",
      "source": [
        "Q 3. Accept any city form the user and display monuments of the city.\n",
        "\n",
        "    City\tMonument\n",
        "    Delhi\tRed Fort\n",
        "    Agra\tTaj Mahal\n",
        "    Jaipur\tJal Mahal\n"
      ],
      "metadata": {
        "id": "Cc8qrb6jRhX_"
      }
    },
    {
      "cell_type": "code",
      "source": [
        "City = input('Enter City Name : ')\n",
        "if City == \"Delhi\":\n",
        "    print(\"Red Fort\")\n",
        "elif City == \"Agra\":\n",
        "    print(\"Taj Mahal\")\n",
        "else:\n",
        "    print(\"Jal Mahal\")"
      ],
      "metadata": {
        "colab": {
          "base_uri": "https://localhost:8080/"
        },
        "id": "uPGA4oztRZqU",
        "outputId": "19f530f9-96de-4c7b-e580-6dbef6964f60"
      },
      "execution_count": null,
      "outputs": [
        {
          "output_type": "stream",
          "name": "stdout",
          "text": [
            "Enter City Name : Delhi\n",
            "Red Fort\n"
          ]
        }
      ]
    },
    {
      "cell_type": "markdown",
      "source": [
        "Q 4. Check how many times a given number can be divided by 3 before it is less than of equal to 10."
      ],
      "metadata": {
        "id": "DtR7-i9AR15U"
      }
    },
    {
      "cell_type": "code",
      "source": [
        "number = int(input(\"Enter a number : \"))\n",
        "count = 0\n",
        "while number > 10:\n",
        "    # divide number by 3\n",
        "    number = number / 3\n",
        "    # increase count\n",
        "    count = count + 1\n",
        "print('Total iteration required', count)"
      ],
      "metadata": {
        "colab": {
          "base_uri": "https://localhost:8080/"
        },
        "id": "Vq5zKDRZRwIZ",
        "outputId": "8a4848ea-82f1-47c2-af56-f4bb4157ed0b"
      },
      "execution_count": 6,
      "outputs": [
        {
          "output_type": "stream",
          "name": "stdout",
          "text": [
            "Enter a number : 180\n",
            "Total iteration required 3\n"
          ]
        }
      ]
    },
    {
      "cell_type": "markdown",
      "source": [
        "Q 5. Why and when to use while loop in python give a detailed description with example\n",
        "\n",
        "while loop is used to run a block code until a certain condition is met.If the condition evaluates to True, the code inside the while loop is executed. This process continues until the condition is False. When condition evaluates to False, the loop stops.\n",
        "\n",
        "***program to display numbers from 1 to 5***\n",
        "\n",
        "        i = 1\n",
        "        n = 5\n",
        "        while i <= n:\n",
        "          print(i)\n",
        "          i = i + 1"
      ],
      "metadata": {
        "id": "2IuhlneLUaWq"
      }
    },
    {
      "cell_type": "markdown",
      "source": [
        "Q 6.Use nested while loop to print 3 different pattern."
      ],
      "metadata": {
        "id": "Q0LumKRgXhoN"
      }
    },
    {
      "cell_type": "code",
      "source": [
        "row = int(input(\"Enter row number : \"))\n",
        "while row>0:\n",
        "    print()\n",
        "    column = 0\n",
        "    while column < row:\n",
        "        print(\"*\", end=' ')\n",
        "        column +=1\n",
        "    row -=1"
      ],
      "metadata": {
        "id": "8Z1J35xaSBVA",
        "colab": {
          "base_uri": "https://localhost:8080/"
        },
        "outputId": "0fe64fa7-7e00-4526-9adf-5cece904b705"
      },
      "execution_count": 7,
      "outputs": [
        {
          "output_type": "stream",
          "name": "stdout",
          "text": [
            "Enter row number : 5\n",
            "\n",
            "* * * * * \n",
            "* * * * \n",
            "* * * \n",
            "* * \n",
            "* "
          ]
        }
      ]
    },
    {
      "cell_type": "code",
      "source": [
        "row = int(input(\"Enter row number : \"))\n",
        "num = 0\n",
        "while num <= row:\n",
        "    print(\"* \"*num)\n",
        "    num +=1"
      ],
      "metadata": {
        "colab": {
          "base_uri": "https://localhost:8080/"
        },
        "id": "y7g-3b3XhEO6",
        "outputId": "017963e2-93e9-4fea-97c5-47cf7ad660b4"
      },
      "execution_count": 8,
      "outputs": [
        {
          "output_type": "stream",
          "name": "stdout",
          "text": [
            "Enter row number : 10\n",
            "\n",
            "* \n",
            "* * \n",
            "* * * \n",
            "* * * * \n",
            "* * * * * \n",
            "* * * * * * \n",
            "* * * * * * * \n",
            "* * * * * * * * \n",
            "* * * * * * * * * \n",
            "* * * * * * * * * * \n"
          ]
        }
      ]
    },
    {
      "cell_type": "code",
      "source": [
        "row = int(input(\"Enter row number : \"))\n",
        "num = 0\n",
        "while num <= row:\n",
        "    print(\"* \"*num)\n",
        "    num +=1\n",
        "    if num > row:\n",
        "        row = row-1\n",
        "        num = -row +2\n",
        "        while num <= row:\n",
        "            print(\"* \"*row)\n",
        "            num +=1\n",
        "            row -=1"
      ],
      "metadata": {
        "colab": {
          "base_uri": "https://localhost:8080/"
        },
        "id": "g2ZDwN8rhQCZ",
        "outputId": "35ea177a-23a8-4d29-9444-6edee9a2908b"
      },
      "execution_count": 9,
      "outputs": [
        {
          "output_type": "stream",
          "name": "stdout",
          "text": [
            "Enter row number : 6\n",
            "\n",
            "* \n",
            "* * \n",
            "* * * \n",
            "* * * * \n",
            "* * * * * \n",
            "* * * * * * \n",
            "* * * * * \n",
            "* * * * \n",
            "* * * \n",
            "* * \n",
            "* \n"
          ]
        }
      ]
    },
    {
      "cell_type": "markdown",
      "source": [
        "Q 7. Reverse a while loop to display numbers form 10 to 1."
      ],
      "metadata": {
        "id": "R04PUayahWzD"
      }
    },
    {
      "cell_type": "code",
      "source": [
        "i = 10\n",
        "while i > 0:\n",
        "    print(i)\n",
        "    i = i - 1"
      ],
      "metadata": {
        "colab": {
          "base_uri": "https://localhost:8080/"
        },
        "id": "BIJIy25mhVDm",
        "outputId": "f7e1276d-c307-4ac1-b22b-97c5b3e5f8cc"
      },
      "execution_count": 12,
      "outputs": [
        {
          "output_type": "stream",
          "name": "stdout",
          "text": [
            "10\n",
            "9\n",
            "8\n",
            "7\n",
            "6\n",
            "5\n",
            "4\n",
            "3\n",
            "2\n",
            "1\n"
          ]
        }
      ]
    },
    {
      "cell_type": "code",
      "source": [],
      "metadata": {
        "id": "XLc0BpZGhc3F"
      },
      "execution_count": null,
      "outputs": []
    }
  ]
}