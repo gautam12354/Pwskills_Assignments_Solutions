{
  "nbformat": 4,
  "nbformat_minor": 0,
  "metadata": {
    "colab": {
      "provenance": [],
      "authorship_tag": "ABX9TyNWUiOeg93CIZMVJNhPNjod",
      "include_colab_link": true
    },
    "kernelspec": {
      "name": "python3",
      "display_name": "Python 3"
    },
    "language_info": {
      "name": "python"
    }
  },
  "cells": [
    {
      "cell_type": "markdown",
      "metadata": {
        "id": "view-in-github",
        "colab_type": "text"
      },
      "source": [
        "<a href=\"https://colab.research.google.com/github/gautam12354/Pwskills_Assignments_Solutions/blob/main/03_Feb_AssQ_Solution.ipynb\" target=\"_parent\"><img src=\"https://colab.research.google.com/assets/colab-badge.svg\" alt=\"Open In Colab\"/></a>"
      ]
    },
    {
      "cell_type": "markdown",
      "source": [
        "Q1. Which keyword is used to create a function? Create a function to return a list of odd numbers in the range of 1 to 25.\n",
        "\n",
        "The keyword used to create a function in Python is \"def\"."
      ],
      "metadata": {
        "id": "BCYCKz8pjTg1"
      }
    },
    {
      "cell_type": "code",
      "execution_count": 1,
      "metadata": {
        "colab": {
          "base_uri": "https://localhost:8080/"
        },
        "id": "0t-cwiF2iaNC",
        "outputId": "6c98bccd-1352-41e8-f651-51f0f2624615"
      },
      "outputs": [
        {
          "output_type": "execute_result",
          "data": {
            "text/plain": [
              "[1, 3, 5, 7, 9, 11, 13, 15, 17, 19, 21, 23, 25]"
            ]
          },
          "metadata": {},
          "execution_count": 1
        }
      ],
      "source": [
        "def odd_numbers():\n",
        "    odd_list = []\n",
        "    for i in range(1, 26):\n",
        "        if i % 2 != 0:\n",
        "            odd_list.append(i)\n",
        "    return odd_list\n",
        "odd_numbers()"
      ]
    },
    {
      "cell_type": "markdown",
      "source": [
        "Q2. Why args and kwargs is used in some functions? Create a function each for\n",
        "    args and **kwargs to demonstrate their use.\n",
        "\n",
        "*args (Non-Keyword Arguments) - The special syntax *args in function definitions in Python is used to pass a variable number of arguments to a function. It is used to pass a non-keyworded, variable-length argument list.\n"
      ],
      "metadata": {
        "id": "RBQ1MlARjuTJ"
      }
    },
    {
      "cell_type": "code",
      "source": [
        "def myFun(arg1, *argv):\n",
        "\tprint(\"First argument :\", arg1)\n",
        "\tfor arg in argv:\n",
        "\t\tprint(\"Next argument through *argv :\", arg)\n",
        "\n",
        "\n",
        "myFun('Hello', 'Welcome', 'to', 'GeeksforGeeks')\n"
      ],
      "metadata": {
        "colab": {
          "base_uri": "https://localhost:8080/"
        },
        "id": "OALCJ3cwjsNM",
        "outputId": "3efcd08a-d873-41e1-81b4-8a562f841f56"
      },
      "execution_count": 2,
      "outputs": [
        {
          "output_type": "stream",
          "name": "stdout",
          "text": [
            "First argument : Hello\n",
            "Next argument through *argv : Welcome\n",
            "Next argument through *argv : to\n",
            "Next argument through *argv : GeeksforGeeks\n"
          ]
        }
      ]
    },
    {
      "cell_type": "markdown",
      "source": [
        "**kwargs (Keyword Arguments) - The special syntax **kwargs in function definitions in Python is used to pass a keyworded, variable-length argument list. We use the name kwargs with the double star. The reason is that the double star allows us to pass through keyword arguments (and any number of them)."
      ],
      "metadata": {
        "id": "-rUuDBkElZ3I"
      }
    },
    {
      "cell_type": "code",
      "source": [
        "def myFun(**kwargs):\n",
        "\tfor key, value in kwargs.items():\n",
        "\t\tprint(\"%s == %s\" % (key, value))\n",
        "\n",
        "\n",
        "# Driver code\n",
        "myFun(first='Geeks', mid='for', last='Geeks')\n"
      ],
      "metadata": {
        "colab": {
          "base_uri": "https://localhost:8080/"
        },
        "id": "PdlYM44fljBd",
        "outputId": "38f231dc-37c0-40c9-e756-cf1c5fa960c2"
      },
      "execution_count": 3,
      "outputs": [
        {
          "output_type": "stream",
          "name": "stdout",
          "text": [
            "first == Geeks\n",
            "mid == for\n",
            "last == Geeks\n"
          ]
        }
      ]
    },
    {
      "cell_type": "markdown",
      "source": [
        "Q3. What is an iterator in python? Name the method used to initialise the iterator object and the method used for iteration. Use these methods to print the first five elements of the given list [2, 4, 6, 8, 10, 12, 14, 16, 18, 20].\n",
        "\n",
        "An iterator in Python is an object that implements the iterator protocol, which consists of two methods: iter() and next(). The iter() method is used to initialize the iterator object, and the next() method is used for iteration."
      ],
      "metadata": {
        "id": "WdC__KcdluDB"
      }
    },
    {
      "cell_type": "code",
      "source": [
        "#example\n",
        "numbers = [2, 4, 6, 8, 10, 12, 14, 16, 18, 20]\n",
        "\n",
        "class TopNumbers:\n",
        "    def __init__(self, limit):\n",
        "        self.limit = limit\n",
        "        self.counter = 0\n",
        "\n",
        "    def __iter__(self):\n",
        "        return self\n",
        "\n",
        "    def __next__(self):\n",
        "        if self.counter < self.limit:\n",
        "            number = numbers[self.counter]\n",
        "            self.counter += 1\n",
        "            return number\n",
        "        else:\n",
        "            raise StopIteration\n",
        "\n",
        "print(\"The first 5 numbers:\")\n",
        "for number in TopNumbers(5):\n",
        "    print(number)"
      ],
      "metadata": {
        "colab": {
          "base_uri": "https://localhost:8080/"
        },
        "id": "ErNFiFqZmey3",
        "outputId": "23ba297b-9572-45e2-dda7-09fb98dba1ec"
      },
      "execution_count": 4,
      "outputs": [
        {
          "output_type": "stream",
          "name": "stdout",
          "text": [
            "The first 5 numbers:\n",
            "2\n",
            "4\n",
            "6\n",
            "8\n",
            "10\n"
          ]
        }
      ]
    },
    {
      "cell_type": "markdown",
      "source": [
        "Q4. What is a generator function in python? Why yield keyword is used? Give an example of a generator function.\n",
        "\n",
        "function in Python is a function that returns a generator iterator. The yield keyword is used to return a value from a generator function and pause the function's execution. When the generator function is called again, it resumes execution from where it left off, using the saved state from the last call to yield."
      ],
      "metadata": {
        "id": "g89tFAEZnrSW"
      }
    },
    {
      "cell_type": "code",
      "source": [
        "def fibonacci_sequence(limit):\n",
        "    a, b = 0, 1\n",
        "    while a < limit:\n",
        "        yield a\n",
        "        a, b = b, a + b\n",
        "\n",
        "fib = fibonacci_sequence(20)\n",
        "\n",
        "print(\"Fibonacci sequence:\")\n",
        "for number in fib:\n",
        "    print(number)"
      ],
      "metadata": {
        "colab": {
          "base_uri": "https://localhost:8080/"
        },
        "id": "j9rD3LR1n473",
        "outputId": "66b00ff1-79ce-4c1e-927d-9403a5f20617"
      },
      "execution_count": 5,
      "outputs": [
        {
          "output_type": "stream",
          "name": "stdout",
          "text": [
            "Fibonacci sequence:\n",
            "0\n",
            "1\n",
            "1\n",
            "2\n",
            "3\n",
            "5\n",
            "8\n",
            "13\n"
          ]
        }
      ]
    },
    {
      "cell_type": "markdown",
      "source": [
        "Q5. Create a generator function for prime numbers less than 1000. Use the next() method to print the first 20 prime numbers"
      ],
      "metadata": {
        "id": "swlEYwaQy0us"
      }
    },
    {
      "cell_type": "code",
      "source": [
        "def prime_numbers():\n",
        "    yield 2\n",
        "    primes = [2]\n",
        "    candidate = 3\n",
        "    while candidate < 1000:\n",
        "        is_prime = True\n",
        "        for prime in primes:\n",
        "            if candidate % prime == 0:\n",
        "                is_prime = False\n",
        "                break\n",
        "        if is_prime:\n",
        "            primes.append(candidate)\n",
        "            yield candidate\n",
        "        candidate += 2\n",
        "\n",
        "primes = prime_numbers()\n",
        "\n",
        "print(\"The first 20 prime numbers:\")\n",
        "for i in range(20):\n",
        "    print(next(primes))"
      ],
      "metadata": {
        "colab": {
          "base_uri": "https://localhost:8080/"
        },
        "id": "eN_AGLJsn8La",
        "outputId": "24f714b3-59df-4313-97af-d0977c787df8"
      },
      "execution_count": 6,
      "outputs": [
        {
          "output_type": "stream",
          "name": "stdout",
          "text": [
            "The first 20 prime numbers:\n",
            "2\n",
            "3\n",
            "5\n",
            "7\n",
            "11\n",
            "13\n",
            "17\n",
            "19\n",
            "23\n",
            "29\n",
            "31\n",
            "37\n",
            "41\n",
            "43\n",
            "47\n",
            "53\n",
            "59\n",
            "61\n",
            "67\n",
            "71\n"
          ]
        }
      ]
    },
    {
      "cell_type": "markdown",
      "source": [
        "Q6. .Write a python program to print the first 10 Fibonacci numbers using a while looP"
      ],
      "metadata": {
        "id": "O8bhKEddy_E2"
      }
    },
    {
      "cell_type": "code",
      "source": [
        "a, b = 0, 1\n",
        "count = 0\n",
        "\n",
        "while count < 10:\n",
        "    print(a)\n",
        "    a, b = b, a + b\n",
        "    count += 1"
      ],
      "metadata": {
        "colab": {
          "base_uri": "https://localhost:8080/"
        },
        "id": "B3pD1OptzEVZ",
        "outputId": "6f0e825f-07b5-463e-bf26-74b0d2369c4f"
      },
      "execution_count": 7,
      "outputs": [
        {
          "output_type": "stream",
          "name": "stdout",
          "text": [
            "0\n",
            "1\n",
            "1\n",
            "2\n",
            "3\n",
            "5\n",
            "8\n",
            "13\n",
            "21\n",
            "34\n"
          ]
        }
      ]
    },
    {
      "cell_type": "markdown",
      "source": [
        "Q7. Write a List Comprehension to iterate through the given string: ‘pwskills’. Expected output: ['p', 'w', 's', 'k', 'i', 'l', 'l', 's']"
      ],
      "metadata": {
        "id": "3z8-Z-wRzG0E"
      }
    },
    {
      "cell_type": "code",
      "source": [
        "string = 'pwskills'\n",
        "characters = [char for char in string]\n",
        "print(characters)"
      ],
      "metadata": {
        "colab": {
          "base_uri": "https://localhost:8080/"
        },
        "id": "yhnvaJzazJw8",
        "outputId": "6223464e-604b-44c7-e9b3-0330750ad387"
      },
      "execution_count": 8,
      "outputs": [
        {
          "output_type": "stream",
          "name": "stdout",
          "text": [
            "['p', 'w', 's', 'k', 'i', 'l', 'l', 's']\n"
          ]
        }
      ]
    },
    {
      "cell_type": "markdown",
      "source": [
        "Q8. Write a python program to check whether a given number is Palindrome or not using a while loop."
      ],
      "metadata": {
        "id": "uAo_buQGzN3K"
      }
    },
    {
      "cell_type": "code",
      "source": [
        "def is_palindrome(num):\n",
        "    original = num\n",
        "    reverse = 0\n",
        "    while num > 0:\n",
        "        digit = num % 10\n",
        "        reverse = reverse * 10 + digit\n",
        "        num = num // 10\n",
        "    return original == reverse\n",
        "\n",
        "number = int(input(\"Enter a number: \"))\n",
        "if is_palindrome(number):\n",
        "    print(f\"{number} is a palindrome.\")\n",
        "else:\n",
        "    print(f\"{number} is not a palindrome.\")"
      ],
      "metadata": {
        "colab": {
          "base_uri": "https://localhost:8080/"
        },
        "id": "gsXpQAEyzPiK",
        "outputId": "fdad27a5-f01a-48c8-c849-eb31a99ad9ae"
      },
      "execution_count": 9,
      "outputs": [
        {
          "output_type": "stream",
          "name": "stdout",
          "text": [
            "Enter a number: 1256\n",
            "1256 is not a palindrome.\n"
          ]
        }
      ]
    }
  ]
}