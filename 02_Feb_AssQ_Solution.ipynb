{
  "nbformat": 4,
  "nbformat_minor": 0,
  "metadata": {
    "colab": {
      "provenance": []
    },
    "kernelspec": {
      "name": "python3",
      "display_name": "Python 3"
    },
    "language_info": {
      "name": "python"
    }
  },
  "cells": [
    {
      "cell_type": "code",
      "execution_count": null,
      "metadata": {
        "id": "11XZrGu5vESE"
      },
      "outputs": [],
      "source": []
    },
    {
      "cell_type": "markdown",
      "source": [
        "Q1. Explain with an example each when to use a for loop and a while loop.\n",
        "\n",
        "A **for** loop is a control flow statement that executes code repeatedly for a particular number of iterations. The for loop is used when the number of iterations is already known.\n",
        "\n",
        "A **while** loop is used when the number of iterations is unknown. The statement repeats itself till the boolean value becomes false. In a while loop, the condition is tested at the start, also known as the pre-test loop."
      ],
      "metadata": {
        "id": "0lvQzEjIvSoU"
      }
    },
    {
      "cell_type": "markdown",
      "source": [
        "Q2. Write a python program to print the sum and product of the first 10 natural numbers using for and while loop."
      ],
      "metadata": {
        "id": "qPeNdqPQwruq"
      }
    },
    {
      "cell_type": "code",
      "source": [
        "#Sum first 10 natural numbers by using while loop\n",
        "num, Sum = 1, 0\n",
        "while num<11:\n",
        "    Sum +=num\n",
        "    num +=1\n",
        "print(Sum)"
      ],
      "metadata": {
        "colab": {
          "base_uri": "https://localhost:8080/"
        },
        "id": "PoEMoL98wA47",
        "outputId": "dda1677b-3c8c-41c1-b88d-65290abfcb2e"
      },
      "execution_count": 1,
      "outputs": [
        {
          "output_type": "stream",
          "name": "stdout",
          "text": [
            "55\n"
          ]
        }
      ]
    },
    {
      "cell_type": "code",
      "source": [
        "#Sum first 10 natural numbers by using for loop\n",
        "Sum = 0\n",
        "for i in range(1,11):Sum +=i\n",
        "print(Sum)"
      ],
      "metadata": {
        "colab": {
          "base_uri": "https://localhost:8080/"
        },
        "id": "-WWdUDTXwTmF",
        "outputId": "d0ae0153-82e8-4d55-83b7-01f65c739545"
      },
      "execution_count": 2,
      "outputs": [
        {
          "output_type": "stream",
          "name": "stdout",
          "text": [
            "55\n"
          ]
        }
      ]
    },
    {
      "cell_type": "code",
      "source": [
        "#Product first 10 natural numbers by using while loop\n",
        "num1 = Mul1 = 1\n",
        "while num1<11:\n",
        "    Mul1 *=num1\n",
        "    num1 +=1\n",
        "print(Mul1)"
      ],
      "metadata": {
        "colab": {
          "base_uri": "https://localhost:8080/"
        },
        "id": "8gF8yl5FwYPo",
        "outputId": "aad28549-c9b1-4be7-a9b2-ef93cb2309bb"
      },
      "execution_count": 3,
      "outputs": [
        {
          "output_type": "stream",
          "name": "stdout",
          "text": [
            "3628800\n"
          ]
        }
      ]
    },
    {
      "cell_type": "code",
      "source": [
        "#Product first 10 natural numbers by using for loop\n",
        "mul = 1\n",
        "for i in range(1,11):mul *=i\n",
        "print(mul)"
      ],
      "metadata": {
        "colab": {
          "base_uri": "https://localhost:8080/"
        },
        "id": "jtfskmbywZrQ",
        "outputId": "b1ed6fad-3343-4fa5-82af-0c5b41dd0230"
      },
      "execution_count": 4,
      "outputs": [
        {
          "output_type": "stream",
          "name": "stdout",
          "text": [
            "3628800\n"
          ]
        }
      ]
    },
    {
      "cell_type": "markdown",
      "source": [
        "Q3. Create a python program to compute the electricity bill for a household. The per-unit charges in rupees are as follows: For the first 100 units, the user will be charged Rs. 4.5 per unit, for the next 100 units, the user will be charged Rs. 6 per unit, and for the next 100 units, the user will be charged Rs. 10 per unit, After 300 units and above the user will be charged Rs. 20 per unit.\n",
        "\n",
        "You are required to take the units of electricity consumed in a month from the user as input. Your program must pass this test case: when the unit of electricity consumed by the user in a month is 310, the total electricity bill should be 2250."
      ],
      "metadata": {
        "id": "8HvYibsVwj__"
      }
    },
    {
      "cell_type": "code",
      "source": [
        "unit = int(input(\"Enter your Electricity unit : \"))\n",
        "till_100 = 100*4.5\n",
        "till_200 = 100*6\n",
        "till_300 = 100*10\n",
        "above = 20\n",
        "if unit<=100:\n",
        "    print(unit*4.5)\n",
        "elif unit<=200:\n",
        "    price = till_100+(unit-100)*6\n",
        "    print(price)\n",
        "elif unit<=300:\n",
        "    price = till_100+till_200+(unit-200)*10\n",
        "    print(price)\n",
        "else:\n",
        "    price = till_100+till_200+till_300+(unit-300)*20\n",
        "    print(price)"
      ],
      "metadata": {
        "colab": {
          "base_uri": "https://localhost:8080/"
        },
        "id": "Az4boCGGweOz",
        "outputId": "ebde1460-3586-4d4f-fd57-a7c3b7090426"
      },
      "execution_count": 6,
      "outputs": [
        {
          "output_type": "stream",
          "name": "stdout",
          "text": [
            "Enter your Electricity unit : 310\n",
            "2250.0\n"
          ]
        }
      ]
    },
    {
      "cell_type": "markdown",
      "source": [
        "Q4. Create a list of numbers from 1 to 100. Use for loop and while loop to calculate the cube of each number and if the cube of that number is divisible by 4 or 5 then append that number in a list and print that list."
      ],
      "metadata": {
        "id": "Ax9eVaoLxpaY"
      }
    },
    {
      "cell_type": "code",
      "source": [
        "# by using for loop\n",
        "numbers = [i for i in range (1, 101)]\n",
        "cube_numbers = []\n",
        "for number in numbers:\n",
        "\n",
        "    if number**3 % 4 == 0 or number**3 % 5 == 0:\n",
        "        cube_numbers.append(number**3)\n",
        "print(cube_numbers)\n",
        "\n",
        "print(\"Length of cube :\",len(cube_numbers))"
      ],
      "metadata": {
        "colab": {
          "base_uri": "https://localhost:8080/"
        },
        "id": "-pG5MNNFwllG",
        "outputId": "351f65e8-6b50-4a42-8deb-9060b43fdec0"
      },
      "execution_count": 10,
      "outputs": [
        {
          "output_type": "stream",
          "name": "stdout",
          "text": [
            "[8, 64, 125, 216, 512, 1000, 1728, 2744, 3375, 4096, 5832, 8000, 10648, 13824, 15625, 17576, 21952, 27000, 32768, 39304, 42875, 46656, 54872, 64000, 74088, 85184, 91125, 97336, 110592, 125000, 140608, 157464, 166375, 175616, 195112, 216000, 238328, 262144, 274625, 287496, 314432, 343000, 373248, 405224, 421875, 438976, 474552, 512000, 551368, 592704, 614125, 636056, 681472, 729000, 778688, 830584, 857375, 884736, 941192, 1000000]\n",
            "Length of cube : 60\n"
          ]
        }
      ]
    },
    {
      "cell_type": "code",
      "source": [
        "# by using while loop\n",
        "numbers = [i for i in range (1, 101)]\n",
        "cube_numbers = []\n",
        "number = 1\n",
        "while number<101:\n",
        "    if number**3 % 4 == 0 or number**3 % 5 == 0:\n",
        "        cube_numbers.append(number**3)\n",
        "    number +=1\n",
        "print(cube_numbers)\n",
        "print(\"Length of cube :\",len(cube_numbers))"
      ],
      "metadata": {
        "colab": {
          "base_uri": "https://localhost:8080/"
        },
        "id": "32yfUPY6x2vS",
        "outputId": "03031b95-2d08-40fb-f620-343ae64fe7d8"
      },
      "execution_count": 11,
      "outputs": [
        {
          "output_type": "stream",
          "name": "stdout",
          "text": [
            "[8, 64, 125, 216, 512, 1000, 1728, 2744, 3375, 4096, 5832, 8000, 10648, 13824, 15625, 17576, 21952, 27000, 32768, 39304, 42875, 46656, 54872, 64000, 74088, 85184, 91125, 97336, 110592, 125000, 140608, 157464, 166375, 175616, 195112, 216000, 238328, 262144, 274625, 287496, 314432, 343000, 373248, 405224, 421875, 438976, 474552, 512000, 551368, 592704, 614125, 636056, 681472, 729000, 778688, 830584, 857375, 884736, 941192, 1000000]\n",
            "Length of cube : 60\n"
          ]
        }
      ]
    },
    {
      "cell_type": "markdown",
      "source": [
        "Q5. Write a program to filter count vowels in the below-given string. string = \"I want to become a data scientist\""
      ],
      "metadata": {
        "id": "obmXOmgMyU2K"
      }
    },
    {
      "cell_type": "code",
      "source": [
        "strings = \"I want to become a data scientist\"\n",
        "vowels = []\n",
        "for string in strings:\n",
        "    if string.lower() in ['a','e','i','o','u']:\n",
        "        vowels.append(string)\n",
        "print(vowels)\n",
        "print(\"Count of vowels:\",len(vowels))"
      ],
      "metadata": {
        "colab": {
          "base_uri": "https://localhost:8080/"
        },
        "id": "ixLXJDZgySMh",
        "outputId": "04f97ad1-2db5-4eb6-b626-7f5475b58a91"
      },
      "execution_count": 14,
      "outputs": [
        {
          "output_type": "stream",
          "name": "stdout",
          "text": [
            "['I', 'a', 'o', 'e', 'o', 'e', 'a', 'a', 'a', 'i', 'e', 'i']\n",
            "Count of vowels: 12\n"
          ]
        }
      ]
    },
    {
      "cell_type": "code",
      "source": [],
      "metadata": {
        "id": "0G1W9kiYycfR"
      },
      "execution_count": null,
      "outputs": []
    }
  ]
}