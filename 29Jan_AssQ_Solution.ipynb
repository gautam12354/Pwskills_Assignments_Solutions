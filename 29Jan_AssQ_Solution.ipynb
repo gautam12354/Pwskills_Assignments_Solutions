{
  "nbformat": 4,
  "nbformat_minor": 0,
  "metadata": {
    "colab": {
      "provenance": [],
      "authorship_tag": "ABX9TyMlJE0V76HAn5n4BnbnsjDj",
      "include_colab_link": true
    },
    "kernelspec": {
      "name": "python3",
      "display_name": "Python 3"
    },
    "language_info": {
      "name": "python"
    }
  },
  "cells": [
    {
      "cell_type": "markdown",
      "metadata": {
        "id": "view-in-github",
        "colab_type": "text"
      },
      "source": [
        "<a href=\"https://colab.research.google.com/github/gautam12354/Pwskills_Assignments_Solutions/blob/main/29Jan_AssQ_Solution.ipynb\" target=\"_parent\"><img src=\"https://colab.research.google.com/assets/colab-badge.svg\" alt=\"Open In Colab\"/></a>"
      ]
    },
    {
      "cell_type": "code",
      "execution_count": null,
      "metadata": {
        "id": "Bhp9pyhM5wKx"
      },
      "outputs": [],
      "source": []
    },
    {
      "cell_type": "markdown",
      "source": [
        "1. Who Developed the python programming language?\n",
        "\n",
        "    Guido Van Rossum developed python programming in 1991.\n",
        "\n",
        "2. Which type of programming does python support?\n",
        "\n",
        "    Python is an interpreted programming language, supporting object-oriented, structured, and functional programming.\n",
        "\n",
        "3. is python case sensitive when dealing with identifier?\n",
        "\n",
        "    yes, It is a case sensitive\n",
        "\n",
        "4. what is the correct extension of python file?\n",
        "\n",
        "    .py is extension for python.\n",
        "\n",
        "5. is python code compiled or interpreted ?\n",
        "\n",
        "    Python is an interpreted language, which means the source code of a Python program is converted into bytecode. That is then executed by the Python virtual machine.\n",
        "\n",
        "6. Name a few blocks of code used to define in Python language?\n",
        "\n",
        "    In Python, code block refers to a collection of code that is in the same block or indent. This is most commonly found in classes, functions, and loops.\n",
        "\n",
        "      def code_block():\n",
        "        #Everything in this function is part of the same code block\n",
        "        print (1)\n",
        "        print (2)\n",
        "  \n",
        "      for i in range(4):\n",
        "      #Everyting in this loop is part of the same code block\n",
        "      print (i)\n",
        "\n",
        "7. State a character used to give single-line comments in Python?\n",
        "\n",
        "    ' # ' symbol is used to write a single-line comment.\n",
        "\n",
        "8. Mention functions which can help us to find the version of python that we are currently working on?\n",
        "\n",
        "    The function sys. version can help us to find the version of python that we are currently working on. It also contains information on the build number and compiler used.\n",
        "\n",
        "9. Python supports the creation of anonymous functions at runtime, using a construct called\n",
        "\n",
        "    Lambda\n",
        "\n",
        "10. What does pip stand for python?\n",
        "\n",
        "    Preferred Installer Program\n",
        "\n",
        "11. Mention a few built- in functions in python?\n",
        "\n",
        "    Python has a set of built-in functions.\n",
        "\n",
        "    like:\n",
        "\n",
        "    abs()\tReturns the absolute value of a number\n",
        "    chr()\tReturns a character from the specified Unicode code.\n",
        "    dir()\tReturns a list of the specified object's properties and methods\n",
        "    filter()\tUse a filter function to exclude items in an iterable object\n",
        "\n",
        "12. What is the maximum possible length of an identifier in Python?\n",
        "\n",
        "    An identifier can have a maximum length of 79 characters in Python.\n",
        "\n",
        "13. What are the benefits of using Python?\n",
        "\n",
        "    >>Presence of third-party modules\n",
        "    >>Extensive support libraries(NumPy for numerical calculations, Pandas for\n",
        "      data analytics, etc.)\n",
        "    >>Open source and large active community base\n",
        "    >>Versatile, Easy to read, learn and write\n",
        "    >>User-friendly data structures\n",
        "    >>High-level language\n",
        "    >>Dynamically typed language(No need to mention data type based on the value assigned, it takes data type)\n",
        "\n",
        "14. How is memory managed in Python?\n",
        "\n",
        "    Memory management in Python involves a private heap containing all Python objects and data structures. The management of this private heap is ensured internally by the Python memory manager.\n",
        "\n",
        "15. How to install Python on Windows and set path variables?\n",
        "\n",
        "    Go to official websitw of python.org and dowload the updated one. And install it in C drive. Then go to properties of python.exe and get the location coppy the path address and Search for “Environmental Variables” and paste and set name python.\n",
        "\n",
        "16. is indentation is required for the python?\n",
        "\n",
        "    Yes, it makes code more readable and give proper structure to code.\n",
        "\n"
      ],
      "metadata": {
        "id": "J2asLBf-8-xe"
      }
    },
    {
      "cell_type": "code",
      "source": [],
      "metadata": {
        "id": "BYU2V_j1AgT6"
      },
      "execution_count": null,
      "outputs": []
    }
  ]
}